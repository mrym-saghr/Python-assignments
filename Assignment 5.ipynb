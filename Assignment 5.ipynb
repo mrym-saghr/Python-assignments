{
 "cells": [
  {
   "cell_type": "code",
   "execution_count": 1,
   "metadata": {},
   "outputs": [
    {
     "name": "stdout",
     "output_type": "stream",
     "text": [
      "enter number : 6\n",
      "720\n"
     ]
    }
   ],
   "source": [
    "def factorial(a):\n",
    "    fac=1;\n",
    "    for x in range(1,a+1):\n",
    "        fac*=x\n",
    "    print(fac)\n",
    "\n",
    "\n",
    "num=int(input(\"enter number : \"))\n",
    "factorial(num)"
   ]
  },
  {
   "cell_type": "code",
   "execution_count": 2,
   "metadata": {},
   "outputs": [
    {
     "name": "stdout",
     "output_type": "stream",
     "text": [
      "enter any string : Maryam\n",
      "Lower Case Letters :  5\n",
      "Upper Case Letters :  1\n"
     ]
    }
   ],
   "source": [
    "a=input(\"enter any string : \")\n",
    "x=0;\n",
    "y=0;\n",
    "\n",
    "for b in a:\n",
    "    if(b.islower()):\n",
    "        x+=1;\n",
    "    elif(b.isupper()):\n",
    "        y+=1;\n",
    "print(\"Lower Case Letters : \",x)\n",
    "print(\"Upper Case Letters : \",y)"
   ]
  },
  {
   "cell_type": "code",
   "execution_count": 3,
   "metadata": {},
   "outputs": [
    {
     "name": "stdout",
     "output_type": "stream",
     "text": [
      "Even :  [4, 2, 56, 34]\n"
     ]
    }
   ],
   "source": [
    "def evenodd (lst):\n",
    "    lst1=[]\n",
    "    for x in lst:\n",
    "        res =  x % 2\n",
    "        if res == 0:\n",
    "            lst1.append(x)\n",
    "    print(\"Even : \",lst1)\n",
    "\n",
    "\n",
    "lst = [1,3,4,2,5,77,56,34,89,45,23]\n",
    "evenodd(lst)"
   ]
  },
  {
   "cell_type": "code",
   "execution_count": 4,
   "metadata": {},
   "outputs": [
    {
     "name": "stdout",
     "output_type": "stream",
     "text": [
      "enter stringmadam\n",
      "string is palindrome\n"
     ]
    }
   ],
   "source": [
    "def palindrome(a):\n",
    "    x = \"\"\n",
    "    for i in a:\n",
    "        x+=i\n",
    "        if (a==x):\n",
    "            print(\"string is palindrome\")\n",
    "\n",
    "\n",
    "a=input(\"enter string\")\n",
    "palindrome(a)"
   ]
  },
  {
   "cell_type": "code",
   "execution_count": 5,
   "metadata": {},
   "outputs": [
    {
     "name": "stdout",
     "output_type": "stream",
     "text": [
      "Enter Number :6\n",
      "6 is not a prime number\n",
      "None\n"
     ]
    }
   ],
   "source": [
    "def test_prime(n):\n",
    "    if num > 1:\n",
    "        for i in range(2,num):\n",
    "            if (num % i) == 0:\n",
    "                print(num,\"is not a prime number\")\n",
    "                break\n",
    "        else:\n",
    "            print(num,\"is a prime number\")\n",
    "    else:\n",
    "        print(num,\"is not a prime number\")\n",
    "num=int(input(\"Enter Number :\"))\n",
    "print(test_prime(num))"
   ]
  },
  {
   "cell_type": "code",
   "execution_count": 1,
   "metadata": {},
   "outputs": [
    {
     "name": "stdout",
     "output_type": "stream",
     "text": [
      "Enter items :bag purse\n",
      "bag\n",
      "purse\n"
     ]
    }
   ],
   "source": [
    "def items(*item):\n",
    "   for x in item:\n",
    "       print(x)\n",
    "user_string = input(\"Enter items :\")\n",
    "input_args = user_string.split()\n",
    "items(*input_args)"
   ]
  },
  {
   "cell_type": "code",
   "execution_count": null,
   "metadata": {},
   "outputs": [],
   "source": []
  },
  {
   "cell_type": "code",
   "execution_count": null,
   "metadata": {},
   "outputs": [],
   "source": []
  }
 ],
 "metadata": {
  "kernelspec": {
   "display_name": "Python 3",
   "language": "python",
   "name": "python3"
  },
  "language_info": {
   "codemirror_mode": {
    "name": "ipython",
    "version": 3
   },
   "file_extension": ".py",
   "mimetype": "text/x-python",
   "name": "python",
   "nbconvert_exporter": "python",
   "pygments_lexer": "ipython3",
   "version": "3.7.4"
  }
 },
 "nbformat": 4,
 "nbformat_minor": 2
}
