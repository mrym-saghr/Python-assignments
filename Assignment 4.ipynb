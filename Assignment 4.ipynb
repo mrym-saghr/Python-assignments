{
 "cells": [
  {
   "cell_type": "code",
   "execution_count": 1,
   "metadata": {},
   "outputs": [
    {
     "name": "stdout",
     "output_type": "stream",
     "text": [
      "Firstname is mrym\n",
      "Lastname is saghr\n",
      "Age is 22\n",
      "City is karachi\n",
      "\n",
      "After adding qualification \n",
      "Firstname is mrym\n",
      "Lastname is saghr\n",
      "Age is 22\n",
      "City is karachi\n",
      "Qualification is High Academic level\n",
      "\n",
      "After removing qualification \n",
      "Firstname is mrym\n",
      "Lastname is saghr\n",
      "Age is 22\n",
      "City is karachi\n"
     ]
    }
   ],
   "source": [
    "person ={\n",
    "  \"Firstname\": \"mrym\",\n",
    "  \"Lastname\": \"saghr\",\n",
    "  \"Age\": \"22\",\n",
    "  \"City\": \"karachi\"\n",
    "}\n",
    "\n",
    "for key, value in person.items():\n",
    "    print(key + \" is \" + value)\n",
    "\n",
    "#adding a key value in dictonary \n",
    "person[\"Qualification\"] =\"High Academic level\"\n",
    "print(\"\\nAfter adding qualification \")\n",
    "for key, value in person.items():\n",
    "    print(key + \" is \" + value)\n",
    "\n",
    "#pop the qualification\n",
    "\n",
    "person.pop(\"Qualification\")\n",
    "print(\"\\nAfter removing qualification \")\n",
    "for key, value in person.items():\n",
    "    print(key + \" is \" + value)"
   ]
  },
  {
   "cell_type": "code",
   "execution_count": 2,
   "metadata": {},
   "outputs": [
    {
     "name": "stdout",
     "output_type": "stream",
     "text": [
      "city : Karachi  Country : pakistan  Population : 33 Millions  Fact : city of light\n",
      "city : Istanbul Country : Turky population : 15 Millions Fact : Arcitecture  Beauty\n",
      "City : Chornobal Country : Russia Population : 0.000 Million Fact : Nuclear Reacted Area\n"
     ]
    }
   ],
   "source": [
    " cites ={'Karachi' : 'city : Karachi '' Country : pakistan '' Population : 33 Millions '' Fact : city of light' ,\n",
    "   'istanbul'  : 'city : Istanbul ''Country : Turky ''population : 15 Millions ''Fact : Arcitecture  Beauty'  ,\n",
    "   'Chornobal' :'City : Chornobal ''Country : Russia ''Population : 0.000 Million'' Fact : Nuclear Reacted Area' } \n",
    "\n",
    "\n",
    "print(cites['Karachi']) \n",
    "\n",
    "print(cites['istanbul'])\n",
    "\n",
    "print(cites['Chornobal']) "
   ]
  },
  {
   "cell_type": "code",
   "execution_count": 3,
   "metadata": {},
   "outputs": [
    {
     "name": "stdout",
     "output_type": "stream",
     "text": [
      "\n",
      "Enter 'quit' when you are finished. \n",
      "Enter your age : 5\n",
      "Ticket Price = $10\n",
      "\n",
      "Enter 'quit' when you are finished. \n",
      "Enter your age : 25\n",
      "Ticket Price = $15\n",
      "\n",
      "Enter 'quit' when you are finished. \n",
      "Enter your age : quit\n"
     ]
    }
   ],
   "source": [
    "x = \"\\nEnter 'quit' when you are finished. \"\n",
    "x += \"\\nEnter your age : \"\n",
    "\n",
    "while True:\n",
    "    age = input(x)\n",
    "    if age == 'quit':\n",
    "        break\n",
    "    age = int(age)\n",
    "    if(age<3) :\n",
    "        print(\"Ticket is free\")\n",
    "    elif(age>=3 and age<12) :\n",
    "        print(\"Ticket Price = $10\")\n",
    "    elif(age>12) :\n",
    "        print(\"Ticket Price = $15\")"
   ]
  },
  {
   "cell_type": "code",
   "execution_count": 4,
   "metadata": {},
   "outputs": [
    {
     "name": "stdout",
     "output_type": "stream",
     "text": [
      "Enter book title : walk to remember\n",
      "One of my favourite book is : walk to remember\n"
     ]
    }
   ],
   "source": [
    "def favorite_book(title):\n",
    "    print(\"One of my favourite book is : \"+title)\n",
    "\n",
    "x=input(\"Enter book title : \")\n",
    "favorite_book(x)"
   ]
  },
  {
   "cell_type": "code",
   "execution_count": 5,
   "metadata": {},
   "outputs": [
    {
     "name": "stdout",
     "output_type": "stream",
     "text": [
      "Enter value to match with random number to win game : 5\n",
      "5\n",
      "HINT :you should need to add this positive value in you input value   -15\n",
      "your input is less then the a radnom number  try again\n",
      "enter number : 20\n",
      "match number you win  20 20\n"
     ]
    }
   ],
   "source": [
    "import random\n",
    "list =range(1, 31)\n",
    "\n",
    "num =int(input(\"Enter value to match with random number to win game : \"))\n",
    "\n",
    "print (num)\n",
    "\n",
    "a=random.choice(list)\n",
    "\n",
    "if (num == a):\n",
    " print (\"Win \",a,num)\n",
    "\n",
    "elif (num < a):\n",
    " sub=num-a\n",
    " print (\"HINT :you should need to add this positive value in you input value  \",sub)\n",
    " print (\"your input is less then the a radnom number  try again\")\n",
    " num =int(input(\"enter number : \"))\n",
    " \n",
    " if (num == a):\n",
    "     print (\"match number you win \",a,num)\n",
    " else :\n",
    "     print(\"you lost\",a,num)\n",
    "     \n",
    "elif (num > a):\n",
    "    print (\"your number is greater then a random choice\")\n",
    "    num =int(input(\"enter again\"))\n",
    "    if (num == a):\n",
    "        print (\"you win\",a,num)\n",
    "    else :\n",
    "        print (\"you lost\",a,num)\n",
    "\n",
    "else:\n",
    "    print (\"invaled input\")"
   ]
  },
  {
   "cell_type": "code",
   "execution_count": null,
   "metadata": {},
   "outputs": [],
   "source": []
  }
 ],
 "metadata": {
  "kernelspec": {
   "display_name": "Python 3",
   "language": "python",
   "name": "python3"
  },
  "language_info": {
   "codemirror_mode": {
    "name": "ipython",
    "version": 3
   },
   "file_extension": ".py",
   "mimetype": "text/x-python",
   "name": "python",
   "nbconvert_exporter": "python",
   "pygments_lexer": "ipython3",
   "version": "3.7.4"
  }
 },
 "nbformat": 4,
 "nbformat_minor": 2
}
