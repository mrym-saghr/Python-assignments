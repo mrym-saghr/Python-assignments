{
 "cells": [
  {
   "cell_type": "code",
   "execution_count": 1,
   "metadata": {},
   "outputs": [
    {
     "name": "stdout",
     "output_type": "stream",
     "text": [
      "Enter marks of english : 66\n",
      "Enter marks of urdu : 75\n",
      "Enter marks of science : 50\n",
      "Enter marks of math : 25\n",
      "Enter marks of computer : 85\n",
      "Percentage is : 60.199999999999996\n",
      "C Grade\n"
     ]
    }
   ],
   "source": [
    "sub1 = int(input(\"Enter marks of english : \"))\n",
    "sub2 = int(input(\"Enter marks of urdu : \"))\n",
    "sub3 = int(input(\"Enter marks of science : \"))\n",
    "sub4 = int(input(\"Enter marks of math : \"))\n",
    "sub5 = int(input(\"Enter marks of computer : \"))\n",
    "total = sub1 + sub2+ sub3+ sub4+ sub5\n",
    "per = (total/500)*100\n",
    "print(\"Percentage is : \" + str(per))\n",
    "if per>80 and per <100 :\n",
    "    print(\"A Grade\")\n",
    "elif per>70 and per <=80 :\n",
    "    print(\"B Grade\")\n",
    "elif per>60 and per <=70 :\n",
    "    print(\"C Grade\")\n",
    "elif per>50 and per <=60 :\n",
    "    print(\"D Grade\")\n",
    "else :\n",
    "    print(\"Fail\")\n"
   ]
  },
  {
   "cell_type": "code",
   "execution_count": 3,
   "metadata": {},
   "outputs": [
    {
     "name": "stdout",
     "output_type": "stream",
     "text": [
      "Enter number : 5\n",
      "Odd\n"
     ]
    }
   ],
   "source": [
    "num = int(input(\"Enter number : \"))\n",
    "res = num%2\n",
    "if res == 0 :\n",
    "    print(\"Even\")\n",
    "else :\n",
    "    print(\"Odd\")"
   ]
  },
  {
   "cell_type": "code",
   "execution_count": 4,
   "metadata": {},
   "outputs": [
    {
     "name": "stdout",
     "output_type": "stream",
     "text": [
      "Length of list is :  5\n"
     ]
    }
   ],
   "source": [
    "a = [\"Maryam\", \"Python\", \"coding\", 4, 2019]\n",
    "print(\"Length of list is : \", len(a))"
   ]
  },
  {
   "cell_type": "code",
   "execution_count": 5,
   "metadata": {},
   "outputs": [
    {
     "name": "stdout",
     "output_type": "stream",
     "text": [
      "The sum of numbers is 96\n"
     ]
    }
   ],
   "source": [
    "a = [22, 13, 34, 26, 1]\n",
    "sum = 0\n",
    "for x in a:\n",
    "    sum+=x\n",
    "print (\"The sum of numbers is \" + str(sum))"
   ]
  },
  {
   "cell_type": "code",
   "execution_count": 6,
   "metadata": {},
   "outputs": [
    {
     "name": "stdout",
     "output_type": "stream",
     "text": [
      "The maximum number is : 34\n"
     ]
    }
   ],
   "source": [
    "a = [22, 13, 34, 26, 1]\n",
    "max = 0\n",
    "for x in a:\n",
    "    if max<x:\n",
    "        max=x\n",
    "print (\"The maximum number is : \" + str(max))"
   ]
  },
  {
   "cell_type": "code",
   "execution_count": 7,
   "metadata": {},
   "outputs": [
    {
     "name": "stdout",
     "output_type": "stream",
     "text": [
      "The numbers less than 5 are :  [1, 1, 2, 3]\n"
     ]
    }
   ],
   "source": [
    "a = [1, 1, 2, 3, 5, 8, 13, 21, 34, 55, 89]\n",
    "b= []\n",
    "for x in a:\n",
    "    if x<5:\n",
    "        b.append(x)\n",
    "print (\"The numbers less than 5 are : \" ,b)"
   ]
  },
  {
   "cell_type": "code",
   "execution_count": null,
   "metadata": {},
   "outputs": [],
   "source": []
  }
 ],
 "metadata": {
  "kernelspec": {
   "display_name": "Python 3",
   "language": "python",
   "name": "python3"
  },
  "language_info": {
   "codemirror_mode": {
    "name": "ipython",
    "version": 3
   },
   "file_extension": ".py",
   "mimetype": "text/x-python",
   "name": "python",
   "nbconvert_exporter": "python",
   "pygments_lexer": "ipython3",
   "version": "3.7.4"
  }
 },
 "nbformat": 4,
 "nbformat_minor": 2
}
