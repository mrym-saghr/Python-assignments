{
 "cells": [
  {
   "cell_type": "code",
   "execution_count": 1,
   "metadata": {},
   "outputs": [
    {
     "name": "stdout",
     "output_type": "stream",
     "text": [
      "Enter first number : 5\n",
      "Enter second number : 1\n",
      "Enter operator : +\n",
      "Result of addition is : 6\n"
     ]
    }
   ],
   "source": [
    "num1 = int(input(\"Enter first number : \"))\n",
    "num2 = int(input(\"Enter second number : \"))\n",
    "op = input(\"Enter operator : \")\n",
    "if op == \"+\":\n",
    "    print(\"Result of addition is : \"+str(num1+num2))\n",
    "elif op == \"-\":\n",
    "    print(\"Result of substraction is : \"+str(num1-num2))\n",
    "elif op == \"*\":\n",
    "    print(\"Result of multiplication is : \"+str(num1*num2))\n",
    "elif op == \"/\":\n",
    "    print(\"Result of division is : \"+str(num1/num2))\n",
    "else :\n",
    "    print(\"Invalid operator\")"
   ]
  },
  {
   "cell_type": "code",
   "execution_count": 2,
   "metadata": {},
   "outputs": [
    {
     "name": "stdout",
     "output_type": "stream",
     "text": [
      "[4, 2019]\n"
     ]
    }
   ],
   "source": [
    "a = [\"mrym\",4,\"python\",\"course\",2019]\n",
    "b = []\n",
    "for x in a:\n",
    "    try:\n",
    "        b.append(int(x))\n",
    "    except ValueError:\n",
    "        continue\n",
    "print(b)"
   ]
  },
  {
   "cell_type": "code",
   "execution_count": 4,
   "metadata": {},
   "outputs": [
    {
     "name": "stdout",
     "output_type": "stream",
     "text": [
      "Enter key : 5\n",
      "Enter value : 2020\n",
      "{1: 'python', 2: 'course', 3: 2019, 5: '2020'}\n"
     ]
    }
   ],
   "source": [
    "a = {1: \"python\", 2: \"course\", 3: 2019}\n",
    "k = int(input(\"Enter key : \"))\n",
    "v = (input(\"Enter value : \"))\n",
    "a.update({k : v})\n",
    "print(a)"
   ]
  },
  {
   "cell_type": "code",
   "execution_count": 6,
   "metadata": {},
   "outputs": [
    {
     "name": "stdout",
     "output_type": "stream",
     "text": [
      "Sum is :  21\n"
     ]
    }
   ],
   "source": [
    "a = {'k1':5, 'k2' :7, 'k3':9}\n",
    "print(\"Sum is : \",sum(a.values()))"
   ]
  },
  {
   "cell_type": "code",
   "execution_count": 7,
   "metadata": {},
   "outputs": [
    {
     "name": "stdout",
     "output_type": "stream",
     "text": [
      "[1, 34, 6, 48]\n"
     ]
    }
   ],
   "source": [
    "from collections import Counter\n",
    "a = [1,3,12,34,1,6,34,48,6,48]\n",
    "d =  Counter(a)\n",
    "result = [k for k, v in d.items() if v > 1]\n",
    "print(result)"
   ]
  },
  {
   "cell_type": "code",
   "execution_count": 8,
   "metadata": {},
   "outputs": [
    {
     "name": "stdout",
     "output_type": "stream",
     "text": [
      "Enter key to find : name\n",
      "Key present and value is :  mrym\n"
     ]
    }
   ],
   "source": [
    "a = {'name':'mrym', 'course':'python','year':'2019'}\n",
    "x = input(\"Enter key to find : \")\n",
    "for y in a:\n",
    "    if x in a.keys(): \n",
    "        print(\"Key present and value is : \", a[x])\n",
    "        break\n",
    "    else: \n",
    "        print(\"Not present\") "
   ]
  },
  {
   "cell_type": "code",
   "execution_count": null,
   "metadata": {},
   "outputs": [],
   "source": []
  }
 ],
 "metadata": {
  "kernelspec": {
   "display_name": "Python 3",
   "language": "python",
   "name": "python3"
  },
  "language_info": {
   "codemirror_mode": {
    "name": "ipython",
    "version": 3
   },
   "file_extension": ".py",
   "mimetype": "text/x-python",
   "name": "python",
   "nbconvert_exporter": "python",
   "pygments_lexer": "ipython3",
   "version": "3.7.4"
  }
 },
 "nbformat": 4,
 "nbformat_minor": 2
}
